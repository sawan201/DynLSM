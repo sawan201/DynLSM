{
 "cells": [
  {
   "cell_type": "code",
   "execution_count": null,
   "id": "c8692f3d",
   "metadata": {},
   "outputs": [],
   "source": [
    "import numpy as np\n",
    "import matplotlib.pyplot as plt\n",
    "\n",
    "def acceptance_rate(chain: np.ndarray) -> float:\n",
    "    rejects = np.sum(chain[1:] == chain[:-1])\n",
    "    return 1.0 - rejects / (len(chain) - 1)"
   ]
  },
  {
   "cell_type": "code",
   "execution_count": null,
   "id": "e3be89f9",
   "metadata": {},
   "outputs": [],
   "source": [
    "run_file = \"sim_run_binary_ns20000_T2_n5_p1.npz\"\n",
    "\n",
    "data = np.load(run_file)\n",
    "\n",
    "print(\"Arrays stored in this run:\")\n",
    "for k in data.files:\n",
    "    print(\" \", k, data[k].shape)"
   ]
  },
  {
   "cell_type": "code",
   "execution_count": null,
   "id": "fdaec65d",
   "metadata": {},
   "outputs": [],
   "source": [
    "X_true        = data[\"X_true\"]\n",
    "Y             = data[\"Y\"]\n",
    "X_chain       = data[\"X_chain\"]\n",
    "R_chain       = data[\"R_chain\"]\n",
    "betaIN_chain  = data[\"betaIN_chain\"]\n",
    "betaOUT_chain = data[\"betaOUT_chain\"]\n",
    "tauSq_chain   = data[\"tauSq_chain\"]\n",
    "sigmaSq_chain = data[\"sigmaSq_chain\"]\n",
    "\n",
    "n_iter = len(betaIN_chain)\n",
    "print(f\"\\nLoaded a run with {n_iter:,} MCMC iterations.\")"
   ]
  },
  {
   "cell_type": "code",
   "execution_count": null,
   "id": "052a78d4",
   "metadata": {},
   "outputs": [],
   "source": [
    "\n",
    "actor_idx = 0\n",
    "r_single = R_chain[:, actor_idx]\n",
    "acc_single = acceptance_rate(r_single)\n",
    "print(f\"Acceptance rate for r[{actor_idx}] : {acc_single:6.3%}\")\n",
    "\n",
    "plt.figure(figsize=(6, 2.5))\n",
    "plt.plot(r_single, lw=0.6)\n",
    "plt.title(f\"Trace of r[{actor_idx}]\")\n",
    "plt.xlabel(\"iteration\")\n",
    "plt.ylabel(\"radius value\")\n",
    "plt.show()"
   ]
  },
  {
   "cell_type": "code",
   "execution_count": null,
   "id": "830ab11b",
   "metadata": {},
   "outputs": [],
   "source": [
    "results = {\n",
    "    \"β_IN\"  : acceptance_rate(betaIN_chain),\n",
    "    \"β_OUT\" : acceptance_rate(betaOUT_chain),\n",
    "    \"τ²\"    : acceptance_rate(tauSq_chain),\n",
    "    \"σ²\"    : acceptance_rate(sigmaSq_chain),\n",
    "}\n",
    "print(\"Metropolis–Hastings acceptance rates\")\n",
    "for k, acc in results.items():\n",
    "    print(f\"{k:18s}:  {acc:6.3%}  (rejection {1-acc:6.3%})\")"
   ]
  },
  {
   "cell_type": "code",
   "execution_count": null,
   "id": "38bc7bbc",
   "metadata": {},
   "outputs": [],
   "source": [
    "fig, ax = plt.subplots(1, 2, figsize=(10, 3), sharex=True)\n",
    "ax[0].plot(betaIN_chain, lw=0.6);  ax[0].set_title(\"β_IN trace\")\n",
    "ax[1].plot(betaOUT_chain, lw=0.6); ax[1].set_title(\"β_OUT trace\")\n",
    "plt.tight_layout()"
   ]
  }
 ],
 "metadata": {
  "kernelspec": {
   "display_name": ".venv",
   "language": "python",
   "name": "python3"
  },
  "language_info": {
   "codemirror_mode": {
    "name": "ipython",
    "version": 3
   },
   "file_extension": ".py",
   "mimetype": "text/x-python",
   "name": "python",
   "nbconvert_exporter": "python",
   "pygments_lexer": "ipython3",
   "version": "3.13.1"
  }
 },
 "nbformat": 4,
 "nbformat_minor": 5
}
