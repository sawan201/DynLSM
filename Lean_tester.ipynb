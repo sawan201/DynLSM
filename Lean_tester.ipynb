{
 "cells": [
  {
   "cell_type": "code",
   "execution_count": 1,
   "id": "23556d4c",
   "metadata": {},
   "outputs": [
    {
     "name": "stderr",
     "output_type": "stream",
     "text": [
      "/Users/ramsay/Desktop/DRUMS/Code_DRUMS/DynLSM/.venv/lib/python3.13/site-packages/statsmodels/tsa/stattools.py:702: RuntimeWarning: invalid value encountered in divide\n",
      "  acf = avf[: nlags + 1] / avf[0]\n"
     ]
    },
    {
     "name": "stdout",
     "output_type": "stream",
     "text": [
      "Diagnostics complete – files saved to: /Users/ramsay/Desktop/DRUMS/Code_DRUMS/DynLSM/Simulation_Diagnostics/Diagnostics_sim_run_binary100_RWV_ns10000_T3_n13_p1\n"
     ]
    }
   ],
   "source": [
    "import os\n",
    "from pathlib import Path\n",
    "from diagnostics import BinaryDiagnostics\n",
    "\n",
    "results_path = Path(\"/Users/ramsay/Desktop/DRUMS/Code_DRUMS/DynLSM/Simulation_Runs/\"\n",
    "                    \"sim_run_binary100_RWV_ns10000_T3_n13_p1.npz\")\n",
    "\n",
    "base_dir     = results_path.parent.parent / \"Simulation_Diagnostics\"\n",
    "run_folder   = \"Diagnostics_\" + results_path.stem\n",
    "out_dir      = base_dir / run_folder\n",
    "out_dir.mkdir(parents=True, exist_ok=True)\n",
    "os.chdir(out_dir)\n",
    "\n",
    "diag = BinaryDiagnostics(simResultsPath = results_path,\n",
    "                         outPath        = out_dir,\n",
    "                         modelType      = \"binary\",\n",
    "                         truthIncluded  = True)\n",
    "\n",
    "burnIn = 1000\n",
    "txt_name = f\"Estimates after {burnIn} Burn-In Values.txt\"\n",
    "Path(txt_name).touch(exist_ok=True)   # create the text file if it doesn't exist\n",
    "\n",
    "diag.BuildGlobalTracePlots(thinning=10, showTruth=True)\n",
    "diag.BuildGlobalHistograms(showTruth=True, burnIn=burnIn)\n",
    "diag.BuildGlobalAutocorrelationPlots(burnIn=burnIn)\n",
    "diag.BuildParameterEstimates(showTruth=True, burnIn=burnIn)\n",
    "\n",
    "diag.BuildLogLikelihoodPlot(conditionals=diag.conditionals, thinning=50)\n",
    "\n",
    "for i in range(diag.n):\n",
    "    diag.BuildRadiusTracePlot(i=i, showTruth=True, thinning=10)\n",
    "    diag.BuildPositionDynamicPlot(i=i, showTruth=True, burnIn=500)\n",
    "    if diag.p <= 2:\n",
    "        for t in range(diag.T):\n",
    "            diag.BuildPositionTracePlot(i=i, t=t, showTruth=False, thinning=20)\n",
    "\n",
    "print(\"Diagnostics complete – files saved to:\", out_dir.resolve())"
   ]
  }
 ],
 "metadata": {
  "kernelspec": {
   "display_name": ".venv",
   "language": "python",
   "name": "python3"
  },
  "language_info": {
   "codemirror_mode": {
    "name": "ipython",
    "version": 3
   },
   "file_extension": ".py",
   "mimetype": "text/x-python",
   "name": "python",
   "nbconvert_exporter": "python",
   "pygments_lexer": "ipython3",
   "version": "3.13.1"
  }
 },
 "nbformat": 4,
 "nbformat_minor": 5
}
