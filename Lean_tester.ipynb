{
 "cells": [
  {
   "cell_type": "code",
   "execution_count": null,
   "id": "23556d4c",
   "metadata": {},
   "outputs": [],
   "source": [
    "import os\n",
    "from pathlib import Path\n",
    "from diagnostics import BinaryDiagnostics\n",
    "\n",
    "results_path = Path(\"/Users/saada/Desktop/School/2025/DRUMS 2025/DynLSM/sim_run_binaryBiggerTuned_ns1500_T4_n10_p1.npz\")\n",
    "\n",
    "base_dir     = results_path.parent / \"Simulation_Diagnostics\"\n",
    "run_folder   = \"Diagnostics_\" + results_path.stem\n",
    "out_dir      = base_dir / run_folder\n",
    "out_dir.mkdir(parents=True, exist_ok=True)\n",
    "os.chdir(out_dir)\n",
    "\n",
    "diag = BinaryDiagnostics(simResultsPath = results_path,\n",
    "                         outPath        = out_dir,\n",
    "                         modelType      = \"binary\",\n",
    "                         truthIncluded  = True)\n",
    "\n",
    "burnIn = 3000\n",
    "txt_name = f\"Estimates after {burnIn} Burn-In Values.txt\"\n",
    "Path(txt_name).touch(exist_ok=True)   # create the text file if it doesn't exist\n",
    "\n",
    "diag.BuildGlobalTracePlots(thinning=1, showTruth=True)\n",
    "diag.BuildGlobalHistograms(showTruth=True, burnIn=burnIn)\n",
    "diag.BuildGlobalAutocorrelationPlots(burnIn=burnIn)\n",
    "diag.BuildParameterEstimates(showTruth=True, burnIn=burnIn)\n",
    "\n",
    "diag.BuildLogLikelihoodPlot(conditionals=diag.conditionals, thinning=1, burnIn = burnIn)\n",
    "\n",
    "for i in range(diag.n):\n",
    "    diag.BuildRadiusTracePlot(i=i, showTruth=True, thinning=1)\n",
    "    diag.BuildPositionDynamicPlot(i=i, showTruth=True, burnIn=burnIn)\n",
    "    if diag.p <= 2:\n",
    "        for t in range(diag.T):\n",
    "            diag.BuildPositionTracePlot(i=i, t=t, showTruth=False, thinning=1)\n",
    "\n",
    "print(\"Diagnostics complete – files saved to:\", out_dir.resolve())"
   ]
  },
  {
   "cell_type": "code",
   "execution_count": null,
   "id": "6289de93",
   "metadata": {},
   "outputs": [],
   "source": [
    "import numpy as np\n",
    "loadObject = np.load(\"/Users/ramsay/Desktop/DRUMS/Code_DRUMS/DynLSM/sim_run_binaryLargeBeta_ns1000_T5_n10_p2.npz\")\n",
    "loadObject[\"Y\"]"
   ]
  }
 ],
 "metadata": {
  "kernelspec": {
   "display_name": ".venv",
   "language": "python",
   "name": "python3"
  },
  "language_info": {
   "codemirror_mode": {
    "name": "ipython",
    "version": 3
   },
   "file_extension": ".py",
   "mimetype": "text/x-python",
   "name": "python",
   "nbconvert_exporter": "python",
   "pygments_lexer": "ipython3",
   "version": "3.13.5"
  }
 },
 "nbformat": 4,
 "nbformat_minor": 5
}
